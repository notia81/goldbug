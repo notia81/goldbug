{
 "cells": [
  {
   "cell_type": "code",
   "execution_count": 69,
   "metadata": {},
   "outputs": [
    {
     "data": {
      "text/plain": [
       "<IB connected to 127.0.0.1:4002 clientId=2>"
      ]
     },
     "execution_count": 69,
     "metadata": {},
     "output_type": "execute_result"
    }
   ],
   "source": [
    "#!/usr/bin/env python3\n",
    "from ib_insync import *\n",
    "from time import sleep\n",
    "from datetime import datetime, time, timedelta\n",
    "import pytz\n",
    "import pandas as pd\n",
    "import matplotlib.pyplot as plt\n",
    "import numpy as np\n",
    "\n",
    "Gateway=0\n",
    "Live =0\n",
    "symbol = 'GC'\n",
    "\n",
    "if Gateway==0:\n",
    "    port = 7497\n",
    "    if Live==1:\n",
    "        port = 7496\n",
    "elif Gateway==1:\n",
    "    port = 4002\n",
    "    if Live==1:\n",
    "        port = 4001\n",
    "clientId = 2\n",
    "\n",
    "util.startLoop()\n",
    "ib = IB()\n",
    "ib.connect(\"127.0.0.1\", 4002, clientId)"
   ]
  },
  {
   "cell_type": "code",
   "execution_count": 64,
   "metadata": {},
   "outputs": [],
   "source": [
    "allData = pd.DataFrame(columns=['time', 'bid_p', 'ask_p', 'bid_v', 'ask_v'])\n",
    "allData.set_index('time', inplace = True)\n",
    "allData.to_hdf('/home/cl/google drive/gc_combined_tick.h5', key = 'df', complevel = 9, complib = 'zlib')"
   ]
  },
  {
   "cell_type": "code",
   "execution_count": 116,
   "metadata": {},
   "outputs": [],
   "source": [
    "#only need data from 13:00 to 17:00 London time daily. Save each month, append a hdf5 with the year-month as key.\n",
    "#contract = ContFuture('GC', exchange='NYMEX')\n",
    "#est=pytz.timezone('America/New_York')\n",
    "#allTicks = []\n",
    "def pull_date(dateFrom, est, contract):\n",
    "    dateFrom = dateFrom + pd.Timedelta('7 hours')\n",
    "    dateTo = dateFrom + pd.Timedelta('6 hours')\n",
    "    origdateTo = dateTo.tz_localize(est).strftime(\"%H:%M:%S\")\n",
    "    origdateFrom = dateFrom.tz_localize(est).strftime(\"%H:%M:%S\")\n",
    "    dateFrom = dateFrom.tz_localize(est).strftime(\"%Y%m%d %H:%M:%S\")\n",
    "    dateTo = dateTo.tz_localize(est).strftime(\"%Y%m%d %H:%M:%S\")\n",
    "    print(\"grabbing data from {} to {}\".format(dateFrom, dateTo))\n",
    "    allTicks = []\n",
    "    while dateTo>=dateFrom:\n",
    "        ticks = ib.reqHistoricalTicks(contract, '', dateTo, 1000,\n",
    "                                      'BID_ASK', useRth=True,ignoreSize=False) #use True for less data\n",
    "        allTicks = ticks[1:] + allTicks\n",
    "        dateTo = allTicks[0].time.astimezone(est).strftime(\"%Y%m%d %H:%M:%S\")\n",
    "        print(dateTo)\n",
    "    \n",
    "    allData = pd.DataFrame([[l.time.astimezone(est).replace(tzinfo=None), l.priceBid, l.priceAsk, l.sizeBid,l.sizeAsk] \n",
    "                            for l in allTicks],\n",
    "                           columns=['time','bid_p','ask_p','bid_v','ask_v'])\n",
    "    allData.set_index(\"time\", inplace=True) #replace index with datetime\n",
    "    return(allData.between_time(origdateFrom, origdateTo))\n",
    "    "
   ]
  },
  {
   "cell_type": "code",
   "execution_count": null,
   "metadata": {
    "scrolled": true
   },
   "outputs": [
    {
     "name": "stdout",
     "output_type": "stream",
     "text": [
      "grabbing data from 20180101 07:00:00 to 20180101 13:00:00\n",
      "20171229 16:45:32\n",
      "grabbing data from 20180102 07:00:00 to 20180102 13:00:00\n",
      "20180102 12:56:48\n",
      "20180102 12:53:32\n",
      "20180102 12:50:00\n",
      "20180102 12:47:17\n",
      "20180102 12:42:38\n",
      "20180102 12:40:09\n",
      "20180102 12:36:30\n",
      "20180102 12:33:11\n",
      "20180102 12:29:51\n",
      "20180102 12:27:57\n",
      "20180102 12:25:09\n",
      "20180102 12:22:01\n",
      "20180102 12:19:18\n",
      "20180102 12:15:37\n",
      "20180102 12:12:04\n",
      "20180102 12:07:35\n",
      "20180102 12:05:10\n",
      "20180102 12:02:33\n",
      "20180102 12:00:05\n",
      "20180102 11:58:41\n",
      "20180102 11:56:10\n",
      "20180102 11:54:01\n",
      "20180102 11:52:02\n",
      "20180102 11:49:48\n",
      "20180102 11:47:50\n",
      "20180102 11:44:49\n",
      "20180102 11:42:04\n",
      "20180102 11:38:20\n",
      "20180102 11:35:31\n",
      "20180102 11:33:51\n",
      "20180102 11:30:58\n",
      "20180102 11:28:18\n",
      "20180102 11:25:55\n",
      "20180102 11:23:45\n",
      "20180102 11:22:08\n",
      "20180102 11:20:46\n",
      "20180102 11:19:12\n",
      "20180102 11:17:00\n",
      "20180102 11:15:21\n",
      "20180102 11:13:33\n",
      "20180102 11:12:01\n",
      "20180102 11:10:00\n",
      "20180102 11:07:13\n",
      "20180102 11:04:07\n",
      "20180102 11:00:49\n",
      "20180102 10:57:54\n",
      "20180102 10:55:25\n",
      "20180102 10:53:14\n",
      "20180102 10:51:20\n",
      "20180102 10:49:00\n",
      "20180102 10:46:35\n",
      "20180102 10:44:03\n",
      "20180102 10:42:13\n",
      "20180102 10:40:32\n",
      "20180102 10:38:35\n",
      "20180102 10:36:51\n",
      "20180102 10:34:59\n",
      "20180102 10:33:02\n",
      "20180102 10:30:51\n",
      "20180102 10:29:29\n",
      "20180102 10:26:29\n",
      "20180102 10:23:42\n",
      "20180102 10:21:10\n",
      "20180102 10:19:01\n",
      "20180102 10:16:37\n"
     ]
    }
   ],
   "source": [
    "datestopull = pd.bdate_range(start = '2018-01-01', end='2018-11-01')\n",
    "contract = ContFuture('GC', exchange='NYMEX')\n",
    "est=pytz.timezone('America/New_York')\n",
    "\n",
    "savelocData = \"/home/cl/google drive/goldbug/\"\n",
    "interval = 'TICK_ALL'\n",
    "symbol = 'GC_contfut'\n",
    "\n",
    "big_data = []\n",
    "write_month = str(datestopull[0].year) + '-' + str(datestopull[0].month)\n",
    "for date_index in range(0, len(datestopull)):\n",
    "    currentmonth = str(datestopull[date_index].year) + '-' + str(datestopull[date_index].month)\n",
    "    if (currentmonth != write_month):\n",
    "        print('saving data')\n",
    "        write_data = pd.concat(big_data)\n",
    "        write_data.to_hdf(savelocData+symbol+'_'+interval+'_'+write_month,\n",
    "               key='df', complevel=9, complib='zlib')\n",
    "        big_data = []\n",
    "        write_month = currentmonth\n",
    "    big_data = big_data + [pull_date(datestopull[date_index], est, contract)]\n",
    "    \n",
    "write_data = pd.concat(big_data)\n",
    "write_data.to_hdf(savelocData+symbol+'_'+interval+'_'+ write_month,\n",
    "                key='df', complevel=9, complib='zlib')\n",
    "big_data = []"
   ]
  }
 ],
 "metadata": {
  "kernelspec": {
   "display_name": "Python 3",
   "language": "python",
   "name": "python3"
  },
  "language_info": {
   "codemirror_mode": {
    "name": "ipython",
    "version": 3
   },
   "file_extension": ".py",
   "mimetype": "text/x-python",
   "name": "python",
   "nbconvert_exporter": "python",
   "pygments_lexer": "ipython3",
   "version": "3.6.7rc1"
  }
 },
 "nbformat": 4,
 "nbformat_minor": 2
}
