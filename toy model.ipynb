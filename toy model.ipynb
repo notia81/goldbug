{
 "cells": [
  {
   "cell_type": "code",
   "execution_count": 55,
   "metadata": {},
   "outputs": [],
   "source": [
    "from time import sleep\n",
    "from datetime import datetime, time, timedelta\n",
    "import pytz\n",
    "import pandas as pd\n",
    "import matplotlib.pyplot as plt\n",
    "import numpy as np\n",
    "import os"
   ]
  },
  {
   "cell_type": "code",
   "execution_count": 6,
   "metadata": {},
   "outputs": [
    {
     "data": {
      "text/plain": [
       "['GC TICK_ALL 20180829 to 20181026',\n",
       " 'GC 1 min 20111021 to 20181026',\n",
       " 'GC 5 secs 20180731 to 20181026']"
      ]
     },
     "execution_count": 6,
     "metadata": {},
     "output_type": "execute_result"
    }
   ],
   "source": [
    "os.chdir(\"/home/cl/google drive/goldbug\")\n",
    "os.listdir()"
   ]
  },
  {
   "cell_type": "code",
   "execution_count": 78,
   "metadata": {},
   "outputs": [],
   "source": [
    "df = pd.read_pickle('GC 5 secs 20180731 to 20181026')\n",
    "df.index = df.index.tz_localize(tz = 'America/New_York').tz_convert(tz = 'Europe/London')"
   ]
  },
  {
   "cell_type": "code",
   "execution_count": 82,
   "metadata": {},
   "outputs": [],
   "source": [
    "pre = df.between_time('14:55:00', '15:00:00').groupby(pd.Grouper(freq='D')).max()\n",
    "post = df.between_time('15:00:00', '15:15:00').groupby(pd.Grouper(freq='D')).min()"
   ]
  },
  {
   "cell_type": "code",
   "execution_count": 83,
   "metadata": {},
   "outputs": [],
   "source": [
    "data = pd.concat([pre, post], axis = 1).dropna()\n",
    "data.columns = ['pre', 'post']\n",
    "data['ret'] = (data['pre'] - data['post'])/data['pre']\n",
    "data['ret_dollar'] = (data['pre'] - data['post'])"
   ]
  },
  {
   "cell_type": "code",
   "execution_count": 84,
   "metadata": {
    "scrolled": true
   },
   "outputs": [
    {
     "data": {
      "text/plain": [
       "1.252419370606158"
      ]
     },
     "execution_count": 84,
     "metadata": {},
     "output_type": "execute_result"
    }
   ],
   "source": [
    "data['ret'].mean() / data['ret'].std()"
   ]
  },
  {
   "cell_type": "code",
   "execution_count": 85,
   "metadata": {},
   "outputs": [
    {
     "data": {
      "text/plain": [
       "0.0011616476229947853"
      ]
     },
     "execution_count": 85,
     "metadata": {},
     "output_type": "execute_result"
    }
   ],
   "source": [
    "data['ret'].mean()"
   ]
  },
  {
   "cell_type": "code",
   "execution_count": 87,
   "metadata": {},
   "outputs": [
    {
     "data": {
      "text/plain": [
       "88.60000000000014"
      ]
     },
     "execution_count": 87,
     "metadata": {},
     "output_type": "execute_result"
    }
   ],
   "source": [
    "data['ret_dollar'].sum()"
   ]
  },
  {
   "cell_type": "code",
   "execution_count": 88,
   "metadata": {},
   "outputs": [
    {
     "data": {
      "text/html": [
       "<div>\n",
       "<style scoped>\n",
       "    .dataframe tbody tr th:only-of-type {\n",
       "        vertical-align: middle;\n",
       "    }\n",
       "\n",
       "    .dataframe tbody tr th {\n",
       "        vertical-align: top;\n",
       "    }\n",
       "\n",
       "    .dataframe thead th {\n",
       "        text-align: right;\n",
       "    }\n",
       "</style>\n",
       "<table border=\"1\" class=\"dataframe\">\n",
       "  <thead>\n",
       "    <tr style=\"text-align: right;\">\n",
       "      <th></th>\n",
       "      <th>close</th>\n",
       "    </tr>\n",
       "    <tr>\n",
       "      <th>date</th>\n",
       "      <th></th>\n",
       "    </tr>\n",
       "  </thead>\n",
       "  <tbody>\n",
       "    <tr>\n",
       "      <th>2011-10-21 14:30:00+01:00</th>\n",
       "      <td>1793.0</td>\n",
       "    </tr>\n",
       "    <tr>\n",
       "      <th>2011-10-21 14:31:00+01:00</th>\n",
       "      <td>1792.0</td>\n",
       "    </tr>\n",
       "    <tr>\n",
       "      <th>2011-10-21 14:32:00+01:00</th>\n",
       "      <td>1794.0</td>\n",
       "    </tr>\n",
       "    <tr>\n",
       "      <th>2011-10-21 14:33:00+01:00</th>\n",
       "      <td>1795.0</td>\n",
       "    </tr>\n",
       "    <tr>\n",
       "      <th>2011-10-21 14:34:00+01:00</th>\n",
       "      <td>1797.0</td>\n",
       "    </tr>\n",
       "  </tbody>\n",
       "</table>\n",
       "</div>"
      ],
      "text/plain": [
       "                            close\n",
       "date                             \n",
       "2011-10-21 14:30:00+01:00  1793.0\n",
       "2011-10-21 14:31:00+01:00  1792.0\n",
       "2011-10-21 14:32:00+01:00  1794.0\n",
       "2011-10-21 14:33:00+01:00  1795.0\n",
       "2011-10-21 14:34:00+01:00  1797.0"
      ]
     },
     "execution_count": 88,
     "metadata": {},
     "output_type": "execute_result"
    }
   ],
   "source": [
    "df = pd.read_hdf('GC 1 min 20111021 to 20181026', 'df')\n",
    "df.index = df.index.tz_localize(tz = 'America/New_York').tz_convert(tz = 'Europe/London')\n",
    "df.head()"
   ]
  },
  {
   "cell_type": "code",
   "execution_count": 90,
   "metadata": {},
   "outputs": [],
   "source": [
    "pre = df.between_time('14:55:00', '15:00:00', include_end = False).groupby(pd.Grouper(freq = 'D')).max()\n",
    "post = df.between_time('15:00:00', '15:15:00').groupby(pd.Grouper(freq = 'D')).min()"
   ]
  },
  {
   "cell_type": "code",
   "execution_count": 98,
   "metadata": {},
   "outputs": [],
   "source": [
    "data = pd.concat([pre, post], axis = 1).dropna()\n",
    "data.columns = ['pre', 'post']\n",
    "data['ret'] = (data['pre'] - data['post'])/data['pre']\n",
    "data['ret_dollar'] = (data['pre'] - data['post']) * 100"
   ]
  },
  {
   "cell_type": "code",
   "execution_count": 99,
   "metadata": {
    "scrolled": false
   },
   "outputs": [
    {
     "data": {
      "text/html": [
       "<div>\n",
       "<style scoped>\n",
       "    .dataframe tbody tr th:only-of-type {\n",
       "        vertical-align: middle;\n",
       "    }\n",
       "\n",
       "    .dataframe tbody tr th {\n",
       "        vertical-align: top;\n",
       "    }\n",
       "\n",
       "    .dataframe thead th {\n",
       "        text-align: right;\n",
       "    }\n",
       "</style>\n",
       "<table border=\"1\" class=\"dataframe\">\n",
       "  <thead>\n",
       "    <tr style=\"text-align: right;\">\n",
       "      <th></th>\n",
       "      <th>pre</th>\n",
       "      <th>post</th>\n",
       "      <th>ret</th>\n",
       "      <th>ret_dollar</th>\n",
       "    </tr>\n",
       "    <tr>\n",
       "      <th>date</th>\n",
       "      <th></th>\n",
       "      <th></th>\n",
       "      <th></th>\n",
       "      <th></th>\n",
       "    </tr>\n",
       "  </thead>\n",
       "  <tbody>\n",
       "    <tr>\n",
       "      <th>2011-12-31 00:00:00+00:00</th>\n",
       "      <td>22.976932</td>\n",
       "      <td>22.712759</td>\n",
       "      <td>1.019248</td>\n",
       "      <td>1.038413</td>\n",
       "    </tr>\n",
       "    <tr>\n",
       "      <th>2012-12-31 00:00:00+00:00</th>\n",
       "      <td>26.032454</td>\n",
       "      <td>26.000690</td>\n",
       "      <td>0.818884</td>\n",
       "      <td>0.821406</td>\n",
       "    </tr>\n",
       "    <tr>\n",
       "      <th>2013-12-31 00:00:00+00:00</th>\n",
       "      <td>8.957752</td>\n",
       "      <td>8.932147</td>\n",
       "      <td>0.712671</td>\n",
       "      <td>0.723431</td>\n",
       "    </tr>\n",
       "    <tr>\n",
       "      <th>2014-12-31 00:00:00+00:00</th>\n",
       "      <td>21.317516</td>\n",
       "      <td>21.256278</td>\n",
       "      <td>1.127499</td>\n",
       "      <td>1.129996</td>\n",
       "    </tr>\n",
       "    <tr>\n",
       "      <th>2015-12-31 00:00:00+00:00</th>\n",
       "      <td>18.601900</td>\n",
       "      <td>18.641485</td>\n",
       "      <td>0.921517</td>\n",
       "      <td>0.911328</td>\n",
       "    </tr>\n",
       "    <tr>\n",
       "      <th>2016-12-31 00:00:00+00:00</th>\n",
       "      <td>16.415480</td>\n",
       "      <td>16.408708</td>\n",
       "      <td>0.906978</td>\n",
       "      <td>0.904776</td>\n",
       "    </tr>\n",
       "    <tr>\n",
       "      <th>2017-12-31 00:00:00+00:00</th>\n",
       "      <td>34.766135</td>\n",
       "      <td>34.637130</td>\n",
       "      <td>0.929134</td>\n",
       "      <td>0.939292</td>\n",
       "    </tr>\n",
       "    <tr>\n",
       "      <th>2018-12-31 00:00:00+00:00</th>\n",
       "      <td>21.146331</td>\n",
       "      <td>21.136127</td>\n",
       "      <td>1.012037</td>\n",
       "      <td>1.019801</td>\n",
       "    </tr>\n",
       "  </tbody>\n",
       "</table>\n",
       "</div>"
      ],
      "text/plain": [
       "                                 pre       post       ret  ret_dollar\n",
       "date                                                                 \n",
       "2011-12-31 00:00:00+00:00  22.976932  22.712759  1.019248    1.038413\n",
       "2012-12-31 00:00:00+00:00  26.032454  26.000690  0.818884    0.821406\n",
       "2013-12-31 00:00:00+00:00   8.957752   8.932147  0.712671    0.723431\n",
       "2014-12-31 00:00:00+00:00  21.317516  21.256278  1.127499    1.129996\n",
       "2015-12-31 00:00:00+00:00  18.601900  18.641485  0.921517    0.911328\n",
       "2016-12-31 00:00:00+00:00  16.415480  16.408708  0.906978    0.904776\n",
       "2017-12-31 00:00:00+00:00  34.766135  34.637130  0.929134    0.939292\n",
       "2018-12-31 00:00:00+00:00  21.146331  21.136127  1.012037    1.019801"
      ]
     },
     "execution_count": 99,
     "metadata": {},
     "output_type": "execute_result"
    }
   ],
   "source": [
    "data.groupby(pd.Grouper(freq = 'Y')).mean() / data.groupby(pd.Grouper(freq = 'Y')).std()"
   ]
  },
  {
   "cell_type": "code",
   "execution_count": 103,
   "metadata": {
    "scrolled": true
   },
   "outputs": [
    {
     "data": {
      "text/plain": [
       "<matplotlib.axes._subplots.AxesSubplot at 0x7fc19acd9208>"
      ]
     },
     "execution_count": 103,
     "metadata": {},
     "output_type": "execute_result"
    },
    {
     "data": {
      "image/png": "[encoded data removed]",
      "text/plain": [
       "<Figure size 432x288 with 1 Axes>"
      ]
     },
     "metadata": {
      "needs_background": "light"
     },
     "output_type": "display_data"
    }
   ],
   "source": [
    "data['ret_dollar'].cumsum().plot()"
   ]
  }
 ],
 "metadata": {
  "kernelspec": {
   "display_name": "Python 3",
   "language": "python",
   "name": "python3"
  },
  "language_info": {
   "codemirror_mode": {
    "name": "ipython",
    "version": 3
   },
   "file_extension": ".py",
   "mimetype": "text/x-python",
   "name": "python",
   "nbconvert_exporter": "python",
   "pygments_lexer": "ipython3",
   "version": "3.6.7rc1"
  }
 },
 "nbformat": 4,
 "nbformat_minor": 2
}
